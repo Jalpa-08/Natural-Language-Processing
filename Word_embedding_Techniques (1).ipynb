{
  "cells": [
    {
      "cell_type": "markdown",
      "metadata": {
        "id": "eHNf7J680XF-"
      },
      "source": [
        "### Word Embedding Techniques using Embedding Layer in Keras"
      ]
    },
    {
      "cell_type": "code",
      "execution_count": null,
      "metadata": {
        "id": "PEsK0_yl0XGB"
      },
      "outputs": [],
      "source": [
        "### Libraries USed Tensorflow> 2.0  and keras"
      ]
    },
    {
      "cell_type": "code",
      "execution_count": 21,
      "metadata": {
        "colab": {
          "base_uri": "https://localhost:8080/"
        },
        "id": "pslw1Ya90XGC",
        "outputId": "dee93418-b534-4047-b559-25e3179641f9"
      },
      "outputs": [
        {
          "output_type": "stream",
          "name": "stdout",
          "text": [
            "Looking in indexes: https://pypi.org/simple, https://us-python.pkg.dev/colab-wheels/public/simple/\n",
            "Requirement already satisfied: tensorflow-gpu in /usr/local/lib/python3.7/dist-packages (2.9.1)\n",
            "Requirement already satisfied: grpcio<2.0,>=1.24.3 in /usr/local/lib/python3.7/dist-packages (from tensorflow-gpu) (1.47.0)\n",
            "Requirement already satisfied: flatbuffers<2,>=1.12 in /usr/local/lib/python3.7/dist-packages (from tensorflow-gpu) (1.12)\n",
            "Requirement already satisfied: h5py>=2.9.0 in /usr/local/lib/python3.7/dist-packages (from tensorflow-gpu) (3.1.0)\n",
            "Requirement already satisfied: six>=1.12.0 in /usr/local/lib/python3.7/dist-packages (from tensorflow-gpu) (1.15.0)\n",
            "Requirement already satisfied: packaging in /usr/local/lib/python3.7/dist-packages (from tensorflow-gpu) (21.3)\n",
            "Requirement already satisfied: typing-extensions>=3.6.6 in /usr/local/lib/python3.7/dist-packages (from tensorflow-gpu) (4.1.1)\n",
            "Requirement already satisfied: tensorboard<2.10,>=2.9 in /usr/local/lib/python3.7/dist-packages (from tensorflow-gpu) (2.9.1)\n",
            "Requirement already satisfied: tensorflow-estimator<2.10.0,>=2.9.0rc0 in /usr/local/lib/python3.7/dist-packages (from tensorflow-gpu) (2.9.0)\n",
            "Requirement already satisfied: astunparse>=1.6.0 in /usr/local/lib/python3.7/dist-packages (from tensorflow-gpu) (1.6.3)\n",
            "Requirement already satisfied: absl-py>=1.0.0 in /usr/local/lib/python3.7/dist-packages (from tensorflow-gpu) (1.1.0)\n",
            "Requirement already satisfied: setuptools in /usr/local/lib/python3.7/dist-packages (from tensorflow-gpu) (57.4.0)\n",
            "Requirement already satisfied: keras<2.10.0,>=2.9.0rc0 in /usr/local/lib/python3.7/dist-packages (from tensorflow-gpu) (2.9.0)\n",
            "Requirement already satisfied: protobuf<3.20,>=3.9.2 in /usr/local/lib/python3.7/dist-packages (from tensorflow-gpu) (3.17.3)\n",
            "Requirement already satisfied: gast<=0.4.0,>=0.2.1 in /usr/local/lib/python3.7/dist-packages (from tensorflow-gpu) (0.4.0)\n",
            "Requirement already satisfied: termcolor>=1.1.0 in /usr/local/lib/python3.7/dist-packages (from tensorflow-gpu) (1.1.0)\n",
            "Requirement already satisfied: wrapt>=1.11.0 in /usr/local/lib/python3.7/dist-packages (from tensorflow-gpu) (1.14.1)\n",
            "Requirement already satisfied: libclang>=13.0.0 in /usr/local/lib/python3.7/dist-packages (from tensorflow-gpu) (14.0.1)\n",
            "Requirement already satisfied: google-pasta>=0.1.1 in /usr/local/lib/python3.7/dist-packages (from tensorflow-gpu) (0.2.0)\n",
            "Requirement already satisfied: opt-einsum>=2.3.2 in /usr/local/lib/python3.7/dist-packages (from tensorflow-gpu) (3.3.0)\n",
            "Requirement already satisfied: keras-preprocessing>=1.1.1 in /usr/local/lib/python3.7/dist-packages (from tensorflow-gpu) (1.1.2)\n",
            "Requirement already satisfied: tensorflow-io-gcs-filesystem>=0.23.1 in /usr/local/lib/python3.7/dist-packages (from tensorflow-gpu) (0.26.0)\n",
            "Requirement already satisfied: numpy>=1.20 in /usr/local/lib/python3.7/dist-packages (from tensorflow-gpu) (1.21.6)\n",
            "Requirement already satisfied: wheel<1.0,>=0.23.0 in /usr/local/lib/python3.7/dist-packages (from astunparse>=1.6.0->tensorflow-gpu) (0.37.1)\n",
            "Requirement already satisfied: cached-property in /usr/local/lib/python3.7/dist-packages (from h5py>=2.9.0->tensorflow-gpu) (1.5.2)\n",
            "Requirement already satisfied: google-auth<3,>=1.6.3 in /usr/local/lib/python3.7/dist-packages (from tensorboard<2.10,>=2.9->tensorflow-gpu) (1.35.0)\n",
            "Requirement already satisfied: tensorboard-data-server<0.7.0,>=0.6.0 in /usr/local/lib/python3.7/dist-packages (from tensorboard<2.10,>=2.9->tensorflow-gpu) (0.6.1)\n",
            "Requirement already satisfied: tensorboard-plugin-wit>=1.6.0 in /usr/local/lib/python3.7/dist-packages (from tensorboard<2.10,>=2.9->tensorflow-gpu) (1.8.1)\n",
            "Requirement already satisfied: requests<3,>=2.21.0 in /usr/local/lib/python3.7/dist-packages (from tensorboard<2.10,>=2.9->tensorflow-gpu) (2.23.0)\n",
            "Requirement already satisfied: google-auth-oauthlib<0.5,>=0.4.1 in /usr/local/lib/python3.7/dist-packages (from tensorboard<2.10,>=2.9->tensorflow-gpu) (0.4.6)\n",
            "Requirement already satisfied: markdown>=2.6.8 in /usr/local/lib/python3.7/dist-packages (from tensorboard<2.10,>=2.9->tensorflow-gpu) (3.3.7)\n",
            "Requirement already satisfied: werkzeug>=1.0.1 in /usr/local/lib/python3.7/dist-packages (from tensorboard<2.10,>=2.9->tensorflow-gpu) (1.0.1)\n",
            "Requirement already satisfied: pyasn1-modules>=0.2.1 in /usr/local/lib/python3.7/dist-packages (from google-auth<3,>=1.6.3->tensorboard<2.10,>=2.9->tensorflow-gpu) (0.2.8)\n",
            "Requirement already satisfied: rsa<5,>=3.1.4 in /usr/local/lib/python3.7/dist-packages (from google-auth<3,>=1.6.3->tensorboard<2.10,>=2.9->tensorflow-gpu) (4.8)\n",
            "Requirement already satisfied: cachetools<5.0,>=2.0.0 in /usr/local/lib/python3.7/dist-packages (from google-auth<3,>=1.6.3->tensorboard<2.10,>=2.9->tensorflow-gpu) (4.2.4)\n",
            "Requirement already satisfied: requests-oauthlib>=0.7.0 in /usr/local/lib/python3.7/dist-packages (from google-auth-oauthlib<0.5,>=0.4.1->tensorboard<2.10,>=2.9->tensorflow-gpu) (1.3.1)\n",
            "Requirement already satisfied: importlib-metadata>=4.4 in /usr/local/lib/python3.7/dist-packages (from markdown>=2.6.8->tensorboard<2.10,>=2.9->tensorflow-gpu) (4.12.0)\n",
            "Requirement already satisfied: zipp>=0.5 in /usr/local/lib/python3.7/dist-packages (from importlib-metadata>=4.4->markdown>=2.6.8->tensorboard<2.10,>=2.9->tensorflow-gpu) (3.8.0)\n",
            "Requirement already satisfied: pyasn1<0.5.0,>=0.4.6 in /usr/local/lib/python3.7/dist-packages (from pyasn1-modules>=0.2.1->google-auth<3,>=1.6.3->tensorboard<2.10,>=2.9->tensorflow-gpu) (0.4.8)\n",
            "Requirement already satisfied: urllib3!=1.25.0,!=1.25.1,<1.26,>=1.21.1 in /usr/local/lib/python3.7/dist-packages (from requests<3,>=2.21.0->tensorboard<2.10,>=2.9->tensorflow-gpu) (1.24.3)\n",
            "Requirement already satisfied: idna<3,>=2.5 in /usr/local/lib/python3.7/dist-packages (from requests<3,>=2.21.0->tensorboard<2.10,>=2.9->tensorflow-gpu) (2.10)\n",
            "Requirement already satisfied: certifi>=2017.4.17 in /usr/local/lib/python3.7/dist-packages (from requests<3,>=2.21.0->tensorboard<2.10,>=2.9->tensorflow-gpu) (2022.6.15)\n",
            "Requirement already satisfied: chardet<4,>=3.0.2 in /usr/local/lib/python3.7/dist-packages (from requests<3,>=2.21.0->tensorboard<2.10,>=2.9->tensorflow-gpu) (3.0.4)\n",
            "Requirement already satisfied: oauthlib>=3.0.0 in /usr/local/lib/python3.7/dist-packages (from requests-oauthlib>=0.7.0->google-auth-oauthlib<0.5,>=0.4.1->tensorboard<2.10,>=2.9->tensorflow-gpu) (3.2.0)\n",
            "Requirement already satisfied: pyparsing!=3.0.5,>=2.0.2 in /usr/local/lib/python3.7/dist-packages (from packaging->tensorflow-gpu) (3.0.9)\n"
          ]
        }
      ],
      "source": [
        "!pip install tensorflow-gpu"
      ]
    },
    {
      "cell_type": "code",
      "source": [
        "import tensorflow as tf\n",
        "print(tf.__version__)"
      ],
      "metadata": {
        "colab": {
          "base_uri": "https://localhost:8080/"
        },
        "id": "yZ5hceiMAX7n",
        "outputId": "de0376e5-3b83-441c-8bf7-fc43c71b9065"
      },
      "execution_count": 22,
      "outputs": [
        {
          "output_type": "stream",
          "name": "stdout",
          "text": [
            "2.9.1\n"
          ]
        }
      ]
    },
    {
      "cell_type": "code",
      "execution_count": 23,
      "metadata": {
        "id": "k4nKifUl0XGC"
      },
      "outputs": [],
      "source": [
        "##tensorflow >2.0\n",
        "from tensorflow.keras.preprocessing.text import one_hot"
      ]
    },
    {
      "cell_type": "code",
      "execution_count": 24,
      "metadata": {
        "id": "Fu9PuYeu0XGD"
      },
      "outputs": [],
      "source": [
        "### sentences\n",
        "sent=[  \"The world is a better place\",\n",
        "      \"Marvel series is my favourite movie\",\n",
        "      \"I like DC movies\",\n",
        "      \"the cat is eating the food\",\n",
        "      \"Tom and Jerry is my favourite movie\",\n",
        "      \"Python is my favourite programming language\"]"
      ]
    },
    {
      "cell_type": "code",
      "execution_count": 25,
      "metadata": {
        "colab": {
          "base_uri": "https://localhost:8080/"
        },
        "id": "x5d1D3_20XGD",
        "outputId": "a72d2ad8-ea65-45bc-81f4-240ff7fe4462"
      },
      "outputs": [
        {
          "output_type": "execute_result",
          "data": {
            "text/plain": [
              "['The world is a better place',\n",
              " 'Marvel series is my favourite movie',\n",
              " 'I like DC movies',\n",
              " 'the cat is eating the food',\n",
              " 'Tom and Jerry is my favourite movie',\n",
              " 'Python is my favourite programming language']"
            ]
          },
          "metadata": {},
          "execution_count": 25
        }
      ],
      "source": [
        "sent"
      ]
    },
    {
      "cell_type": "code",
      "execution_count": 26,
      "metadata": {
        "id": "tjnXIn3B0XGE"
      },
      "outputs": [],
      "source": [
        "### Vocabulary size\n",
        "voc_size=10000"
      ]
    },
    {
      "cell_type": "markdown",
      "metadata": {
        "id": "-vQOdeKk0XGE"
      },
      "source": [
        "#### One Hot Representation"
      ]
    },
    {
      "cell_type": "code",
      "execution_count": 27,
      "metadata": {
        "colab": {
          "base_uri": "https://localhost:8080/"
        },
        "id": "gojfZpAW0XGE",
        "outputId": "25bc6e9e-de4c-44b1-dffa-b1c26e80fe53"
      },
      "outputs": [
        {
          "output_type": "stream",
          "name": "stdout",
          "text": [
            "[[8060, 7509, 6216, 795, 5199, 4928], [4694, 3039, 6216, 2307, 8978, 4531], [7865, 3935, 7499, 1959], [8060, 9606, 6216, 9757, 8060, 6547], [4941, 264, 2558, 6216, 2307, 8978, 4531], [1880, 6216, 2307, 8978, 243, 5728]]\n"
          ]
        }
      ],
      "source": [
        "onehot_repr=[one_hot(words,voc_size)for words in sent] \n",
        "print(onehot_repr)"
      ]
    },
    {
      "cell_type": "markdown",
      "metadata": {
        "id": "eYG267x40XGF"
      },
      "source": [
        "### Word Embedding Represntation"
      ]
    },
    {
      "cell_type": "code",
      "execution_count": 28,
      "metadata": {
        "id": "wpqPm0tb0XGF"
      },
      "outputs": [],
      "source": [
        "from tensorflow.keras.layers import Embedding\n",
        "from tensorflow.keras.preprocessing.sequence import pad_sequences\n",
        "from tensorflow.keras.models import Sequential"
      ]
    },
    {
      "cell_type": "code",
      "execution_count": 29,
      "metadata": {
        "id": "Rov3GTM00XGG"
      },
      "outputs": [],
      "source": [
        "import numpy as np"
      ]
    },
    {
      "cell_type": "code",
      "execution_count": 30,
      "metadata": {
        "colab": {
          "base_uri": "https://localhost:8080/"
        },
        "id": "8fQLPw6p0XGG",
        "outputId": "24679658-dfdf-42df-9add-75170951af55"
      },
      "outputs": [
        {
          "output_type": "stream",
          "name": "stdout",
          "text": [
            "[[   0    0    0    0 8060 7509 6216  795 5199 4928]\n",
            " [   0    0    0    0 4694 3039 6216 2307 8978 4531]\n",
            " [   0    0    0    0    0    0 7865 3935 7499 1959]\n",
            " [   0    0    0    0 8060 9606 6216 9757 8060 6547]\n",
            " [   0    0    0 4941  264 2558 6216 2307 8978 4531]\n",
            " [   0    0    0    0 1880 6216 2307 8978  243 5728]]\n"
          ]
        }
      ],
      "source": [
        "## pre padding\n",
        "sent_length=10\n",
        "embedded_docs=pad_sequences(onehot_repr,padding='pre',maxlen=sent_length)\n",
        "print(embedded_docs)"
      ]
    },
    {
      "cell_type": "code",
      "execution_count": 31,
      "metadata": {
        "id": "yjQqBYac0XGG"
      },
      "outputs": [],
      "source": [
        "## 10 feature dimesnions\n",
        "dim=10\n"
      ]
    },
    {
      "cell_type": "code",
      "execution_count": 32,
      "metadata": {
        "id": "ozC-TXrt0XGG"
      },
      "outputs": [],
      "source": [
        "model=Sequential()\n",
        "model.add(Embedding(voc_size,10,input_length=sent_length))\n",
        "model.compile('adam','mse')"
      ]
    },
    {
      "cell_type": "code",
      "execution_count": 33,
      "metadata": {
        "colab": {
          "base_uri": "https://localhost:8080/"
        },
        "id": "tMNvq-Ji0XGH",
        "outputId": "20d3d1da-52c6-4e11-9816-2238deb084c1"
      },
      "outputs": [
        {
          "output_type": "stream",
          "name": "stdout",
          "text": [
            "Model: \"sequential_1\"\n",
            "_________________________________________________________________\n",
            " Layer (type)                Output Shape              Param #   \n",
            "=================================================================\n",
            " embedding_1 (Embedding)     (None, 10, 10)            100000    \n",
            "                                                                 \n",
            "=================================================================\n",
            "Total params: 100,000\n",
            "Trainable params: 100,000\n",
            "Non-trainable params: 0\n",
            "_________________________________________________________________\n"
          ]
        }
      ],
      "source": [
        "model.summary()"
      ]
    },
    {
      "cell_type": "code",
      "source": [
        "\n",
        "embedded_docs[0]"
      ],
      "metadata": {
        "colab": {
          "base_uri": "https://localhost:8080/"
        },
        "id": "FC4Ess_FEcb3",
        "outputId": "5aec9cd6-1b5a-49e3-c193-811e724304d5"
      },
      "execution_count": 34,
      "outputs": [
        {
          "output_type": "execute_result",
          "data": {
            "text/plain": [
              "array([   0,    0,    0,    0, 8060, 7509, 6216,  795, 5199, 4928],\n",
              "      dtype=int32)"
            ]
          },
          "metadata": {},
          "execution_count": 34
        }
      ]
    },
    {
      "cell_type": "code",
      "source": [
        "model.predict(embedded_docs[0])"
      ],
      "metadata": {
        "colab": {
          "base_uri": "https://localhost:8080/"
        },
        "id": "bRqEvMBYEZUS",
        "outputId": "804806bb-964b-4b38-ee88-5492afff6260"
      },
      "execution_count": 35,
      "outputs": [
        {
          "output_type": "stream",
          "name": "stdout",
          "text": [
            "WARNING:tensorflow:Model was constructed with shape (None, 10) for input KerasTensor(type_spec=TensorSpec(shape=(None, 10), dtype=tf.float32, name='embedding_1_input'), name='embedding_1_input', description=\"created by layer 'embedding_1_input'\"), but it was called on an input with incompatible shape (None,).\n",
            "1/1 [==============================] - 0s 38ms/step\n"
          ]
        },
        {
          "output_type": "execute_result",
          "data": {
            "text/plain": [
              "array([[ 0.00724568, -0.03449657, -0.03182955,  0.00810558,  0.04997626,\n",
              "        -0.02550136,  0.04471089,  0.03317589, -0.04391397, -0.00041975],\n",
              "       [ 0.00724568, -0.03449657, -0.03182955,  0.00810558,  0.04997626,\n",
              "        -0.02550136,  0.04471089,  0.03317589, -0.04391397, -0.00041975],\n",
              "       [ 0.00724568, -0.03449657, -0.03182955,  0.00810558,  0.04997626,\n",
              "        -0.02550136,  0.04471089,  0.03317589, -0.04391397, -0.00041975],\n",
              "       [ 0.00724568, -0.03449657, -0.03182955,  0.00810558,  0.04997626,\n",
              "        -0.02550136,  0.04471089,  0.03317589, -0.04391397, -0.00041975],\n",
              "       [ 0.04076688, -0.0254578 ,  0.01853308, -0.03239413, -0.0339545 ,\n",
              "         0.04540728, -0.03853453,  0.02764677,  0.01774391,  0.00254985],\n",
              "       [ 0.00443375,  0.03929533, -0.01657411,  0.03180127, -0.04481   ,\n",
              "        -0.02663199,  0.04940125, -0.02399793, -0.02894895,  0.03218622],\n",
              "       [ 0.0180077 ,  0.04197855, -0.02994322, -0.02055211,  0.04839735,\n",
              "         0.01377538, -0.04182384, -0.02771622, -0.00568897,  0.03470116],\n",
              "       [-0.00056251, -0.00268074, -0.00844208, -0.03373687,  0.00241417,\n",
              "         0.02483254, -0.04162188, -0.01028829, -0.02395309, -0.00755497],\n",
              "       [-0.0497383 , -0.01974841, -0.03104291, -0.0302685 , -0.0397594 ,\n",
              "         0.044519  ,  0.03130559,  0.03298824, -0.01027591, -0.01350039],\n",
              "       [-0.03864474, -0.03569611, -0.00592425, -0.0419027 , -0.01460173,\n",
              "         0.00639962,  0.02429768,  0.0477956 , -0.04097883,  0.01942072]],\n",
              "      dtype=float32)"
            ]
          },
          "metadata": {},
          "execution_count": 35
        }
      ]
    },
    {
      "cell_type": "code",
      "execution_count": 36,
      "metadata": {
        "colab": {
          "base_uri": "https://localhost:8080/"
        },
        "id": "kzKP69gx0XGH",
        "outputId": "5567e799-adca-4033-f020-bdf9f0e902f9"
      },
      "outputs": [
        {
          "output_type": "stream",
          "name": "stdout",
          "text": [
            "1/1 [==============================] - 0s 31ms/step\n",
            "[[[ 0.00724568 -0.03449657 -0.03182955  0.00810558  0.04997626\n",
            "   -0.02550136  0.04471089  0.03317589 -0.04391397 -0.00041975]\n",
            "  [ 0.00724568 -0.03449657 -0.03182955  0.00810558  0.04997626\n",
            "   -0.02550136  0.04471089  0.03317589 -0.04391397 -0.00041975]\n",
            "  [ 0.00724568 -0.03449657 -0.03182955  0.00810558  0.04997626\n",
            "   -0.02550136  0.04471089  0.03317589 -0.04391397 -0.00041975]\n",
            "  [ 0.00724568 -0.03449657 -0.03182955  0.00810558  0.04997626\n",
            "   -0.02550136  0.04471089  0.03317589 -0.04391397 -0.00041975]\n",
            "  [ 0.04076688 -0.0254578   0.01853308 -0.03239413 -0.0339545\n",
            "    0.04540728 -0.03853453  0.02764677  0.01774391  0.00254985]\n",
            "  [ 0.00443375  0.03929533 -0.01657411  0.03180127 -0.04481\n",
            "   -0.02663199  0.04940125 -0.02399793 -0.02894895  0.03218622]\n",
            "  [ 0.0180077   0.04197855 -0.02994322 -0.02055211  0.04839735\n",
            "    0.01377538 -0.04182384 -0.02771622 -0.00568897  0.03470116]\n",
            "  [-0.00056251 -0.00268074 -0.00844208 -0.03373687  0.00241417\n",
            "    0.02483254 -0.04162188 -0.01028829 -0.02395309 -0.00755497]\n",
            "  [-0.0497383  -0.01974841 -0.03104291 -0.0302685  -0.0397594\n",
            "    0.044519    0.03130559  0.03298824 -0.01027591 -0.01350039]\n",
            "  [-0.03864474 -0.03569611 -0.00592425 -0.0419027  -0.01460173\n",
            "    0.00639962  0.02429768  0.0477956  -0.04097883  0.01942072]]\n",
            "\n",
            " [[ 0.00724568 -0.03449657 -0.03182955  0.00810558  0.04997626\n",
            "   -0.02550136  0.04471089  0.03317589 -0.04391397 -0.00041975]\n",
            "  [ 0.00724568 -0.03449657 -0.03182955  0.00810558  0.04997626\n",
            "   -0.02550136  0.04471089  0.03317589 -0.04391397 -0.00041975]\n",
            "  [ 0.00724568 -0.03449657 -0.03182955  0.00810558  0.04997626\n",
            "   -0.02550136  0.04471089  0.03317589 -0.04391397 -0.00041975]\n",
            "  [ 0.00724568 -0.03449657 -0.03182955  0.00810558  0.04997626\n",
            "   -0.02550136  0.04471089  0.03317589 -0.04391397 -0.00041975]\n",
            "  [-0.00547928  0.02820441 -0.02040325  0.03713915 -0.02281941\n",
            "    0.03009811  0.01206957  0.0055812  -0.04650209  0.02338978]\n",
            "  [ 0.00222608 -0.02036139  0.03587696 -0.01436384  0.01843549\n",
            "    0.03237392  0.04284321 -0.00533879 -0.042598    0.01327418]\n",
            "  [ 0.0180077   0.04197855 -0.02994322 -0.02055211  0.04839735\n",
            "    0.01377538 -0.04182384 -0.02771622 -0.00568897  0.03470116]\n",
            "  [ 0.04098413  0.02292809  0.03706073  0.03561092 -0.00987215\n",
            "   -0.00745902  0.02973732 -0.02544732  0.00725485 -0.04588798]\n",
            "  [ 0.00546737  0.03463247 -0.01750567  0.02861068  0.03156693\n",
            "   -0.01029456 -0.01884552 -0.01643779 -0.0126807   0.01396736]\n",
            "  [-0.01195998  0.04830379  0.0047596  -0.03087419 -0.00339856\n",
            "    0.00452016  0.00201855  0.01561174  0.01881094 -0.03621294]]\n",
            "\n",
            " [[ 0.00724568 -0.03449657 -0.03182955  0.00810558  0.04997626\n",
            "   -0.02550136  0.04471089  0.03317589 -0.04391397 -0.00041975]\n",
            "  [ 0.00724568 -0.03449657 -0.03182955  0.00810558  0.04997626\n",
            "   -0.02550136  0.04471089  0.03317589 -0.04391397 -0.00041975]\n",
            "  [ 0.00724568 -0.03449657 -0.03182955  0.00810558  0.04997626\n",
            "   -0.02550136  0.04471089  0.03317589 -0.04391397 -0.00041975]\n",
            "  [ 0.00724568 -0.03449657 -0.03182955  0.00810558  0.04997626\n",
            "   -0.02550136  0.04471089  0.03317589 -0.04391397 -0.00041975]\n",
            "  [ 0.00724568 -0.03449657 -0.03182955  0.00810558  0.04997626\n",
            "   -0.02550136  0.04471089  0.03317589 -0.04391397 -0.00041975]\n",
            "  [ 0.00724568 -0.03449657 -0.03182955  0.00810558  0.04997626\n",
            "   -0.02550136  0.04471089  0.03317589 -0.04391397 -0.00041975]\n",
            "  [ 0.0037865   0.04757847 -0.02965426 -0.0437911  -0.0317122\n",
            "    0.04855131  0.0298671   0.00513082 -0.04815135 -0.03129506]\n",
            "  [-0.02138602 -0.04272401  0.01369127  0.03712019  0.03935738\n",
            "   -0.03733599 -0.03739936 -0.04438298  0.02626101  0.02020324]\n",
            "  [-0.04222094 -0.01447587  0.00718336 -0.00337865  0.03580977\n",
            "    0.0255083  -0.02239871  0.00898892 -0.03492785  0.03857254]\n",
            "  [-0.02740557 -0.01325586 -0.02892667  0.0439299  -0.00402896\n",
            "   -0.03635406  0.02920598  0.00661319 -0.04547663 -0.04223004]]\n",
            "\n",
            " [[ 0.00724568 -0.03449657 -0.03182955  0.00810558  0.04997626\n",
            "   -0.02550136  0.04471089  0.03317589 -0.04391397 -0.00041975]\n",
            "  [ 0.00724568 -0.03449657 -0.03182955  0.00810558  0.04997626\n",
            "   -0.02550136  0.04471089  0.03317589 -0.04391397 -0.00041975]\n",
            "  [ 0.00724568 -0.03449657 -0.03182955  0.00810558  0.04997626\n",
            "   -0.02550136  0.04471089  0.03317589 -0.04391397 -0.00041975]\n",
            "  [ 0.00724568 -0.03449657 -0.03182955  0.00810558  0.04997626\n",
            "   -0.02550136  0.04471089  0.03317589 -0.04391397 -0.00041975]\n",
            "  [ 0.04076688 -0.0254578   0.01853308 -0.03239413 -0.0339545\n",
            "    0.04540728 -0.03853453  0.02764677  0.01774391  0.00254985]\n",
            "  [ 0.02157081 -0.0428378   0.03344249 -0.03034227 -0.02417823\n",
            "    0.0375477   0.03790427  0.02909459 -0.00607166  0.03633008]\n",
            "  [ 0.0180077   0.04197855 -0.02994322 -0.02055211  0.04839735\n",
            "    0.01377538 -0.04182384 -0.02771622 -0.00568897  0.03470116]\n",
            "  [-0.02645906 -0.01692851 -0.01093506 -0.01040605 -0.0010791\n",
            "    0.00218964 -0.04653572 -0.04979679 -0.0058382  -0.02615231]\n",
            "  [ 0.04076688 -0.0254578   0.01853308 -0.03239413 -0.0339545\n",
            "    0.04540728 -0.03853453  0.02764677  0.01774391  0.00254985]\n",
            "  [-0.03936321 -0.02931037  0.02115541 -0.03848433  0.0367398\n",
            "   -0.01173824  0.03500542 -0.01767097 -0.04414481  0.03342413]]\n",
            "\n",
            " [[ 0.00724568 -0.03449657 -0.03182955  0.00810558  0.04997626\n",
            "   -0.02550136  0.04471089  0.03317589 -0.04391397 -0.00041975]\n",
            "  [ 0.00724568 -0.03449657 -0.03182955  0.00810558  0.04997626\n",
            "   -0.02550136  0.04471089  0.03317589 -0.04391397 -0.00041975]\n",
            "  [ 0.00724568 -0.03449657 -0.03182955  0.00810558  0.04997626\n",
            "   -0.02550136  0.04471089  0.03317589 -0.04391397 -0.00041975]\n",
            "  [-0.03164842 -0.04715302 -0.03974424  0.0429106  -0.01357881\n",
            "    0.03871733  0.02466113  0.04014447  0.04768557 -0.0389009 ]\n",
            "  [-0.00598861 -0.02314368 -0.04739319 -0.00358545 -0.00045365\n",
            "    0.02357801 -0.03685128 -0.01178946 -0.01986047  0.0370126 ]\n",
            "  [-0.01654241 -0.00151392  0.03816352 -0.00429078  0.02121625\n",
            "   -0.01855161  0.03729466 -0.03473421  0.01905534 -0.04854524]\n",
            "  [ 0.0180077   0.04197855 -0.02994322 -0.02055211  0.04839735\n",
            "    0.01377538 -0.04182384 -0.02771622 -0.00568897  0.03470116]\n",
            "  [ 0.04098413  0.02292809  0.03706073  0.03561092 -0.00987215\n",
            "   -0.00745902  0.02973732 -0.02544732  0.00725485 -0.04588798]\n",
            "  [ 0.00546737  0.03463247 -0.01750567  0.02861068  0.03156693\n",
            "   -0.01029456 -0.01884552 -0.01643779 -0.0126807   0.01396736]\n",
            "  [-0.01195998  0.04830379  0.0047596  -0.03087419 -0.00339856\n",
            "    0.00452016  0.00201855  0.01561174  0.01881094 -0.03621294]]\n",
            "\n",
            " [[ 0.00724568 -0.03449657 -0.03182955  0.00810558  0.04997626\n",
            "   -0.02550136  0.04471089  0.03317589 -0.04391397 -0.00041975]\n",
            "  [ 0.00724568 -0.03449657 -0.03182955  0.00810558  0.04997626\n",
            "   -0.02550136  0.04471089  0.03317589 -0.04391397 -0.00041975]\n",
            "  [ 0.00724568 -0.03449657 -0.03182955  0.00810558  0.04997626\n",
            "   -0.02550136  0.04471089  0.03317589 -0.04391397 -0.00041975]\n",
            "  [ 0.00724568 -0.03449657 -0.03182955  0.00810558  0.04997626\n",
            "   -0.02550136  0.04471089  0.03317589 -0.04391397 -0.00041975]\n",
            "  [-0.00963817 -0.00891127 -0.00295662 -0.03263073  0.01093583\n",
            "   -0.04260725  0.03846424 -0.00114291  0.00267756 -0.03637714]\n",
            "  [ 0.0180077   0.04197855 -0.02994322 -0.02055211  0.04839735\n",
            "    0.01377538 -0.04182384 -0.02771622 -0.00568897  0.03470116]\n",
            "  [ 0.04098413  0.02292809  0.03706073  0.03561092 -0.00987215\n",
            "   -0.00745902  0.02973732 -0.02544732  0.00725485 -0.04588798]\n",
            "  [ 0.00546737  0.03463247 -0.01750567  0.02861068  0.03156693\n",
            "   -0.01029456 -0.01884552 -0.01643779 -0.0126807   0.01396736]\n",
            "  [ 0.00434958 -0.00791924 -0.03836153 -0.00312972 -0.02229041\n",
            "   -0.00503299  0.00666748  0.04031021 -0.04982352 -0.03935898]\n",
            "  [ 0.0374169   0.0151281   0.01729648  0.04099221  0.04869104\n",
            "   -0.00091483  0.01991495 -0.03510686 -0.00485762 -0.035978  ]]]\n"
          ]
        }
      ],
      "source": [
        "print(model.predict(embedded_docs))"
      ]
    },
    {
      "cell_type": "code",
      "execution_count": 37,
      "metadata": {
        "id": "JuUxfk7d0XGH",
        "outputId": "f9d48186-a0bf-4c98-c600-925f12e8d290",
        "colab": {
          "base_uri": "https://localhost:8080/"
        }
      },
      "outputs": [
        {
          "output_type": "execute_result",
          "data": {
            "text/plain": [
              "array([   0,    0,    0,    0, 8060, 7509, 6216,  795, 5199, 4928],\n",
              "      dtype=int32)"
            ]
          },
          "metadata": {},
          "execution_count": 37
        }
      ],
      "source": [
        "embedded_docs[0]"
      ]
    },
    {
      "cell_type": "code",
      "execution_count": 38,
      "metadata": {
        "id": "6JJ_zD0u0XGH",
        "outputId": "34fadd61-c26d-4ddb-e064-04870a78e06d",
        "colab": {
          "base_uri": "https://localhost:8080/"
        }
      },
      "outputs": [
        {
          "output_type": "stream",
          "name": "stdout",
          "text": [
            "1/1 [==============================] - 0s 16ms/step\n",
            "[[ 0.00724568 -0.03449657 -0.03182955  0.00810558  0.04997626 -0.02550136\n",
            "   0.04471089  0.03317589 -0.04391397 -0.00041975]\n",
            " [ 0.00724568 -0.03449657 -0.03182955  0.00810558  0.04997626 -0.02550136\n",
            "   0.04471089  0.03317589 -0.04391397 -0.00041975]\n",
            " [ 0.00724568 -0.03449657 -0.03182955  0.00810558  0.04997626 -0.02550136\n",
            "   0.04471089  0.03317589 -0.04391397 -0.00041975]\n",
            " [ 0.00724568 -0.03449657 -0.03182955  0.00810558  0.04997626 -0.02550136\n",
            "   0.04471089  0.03317589 -0.04391397 -0.00041975]\n",
            " [ 0.04076688 -0.0254578   0.01853308 -0.03239413 -0.0339545   0.04540728\n",
            "  -0.03853453  0.02764677  0.01774391  0.00254985]\n",
            " [ 0.00443375  0.03929533 -0.01657411  0.03180127 -0.04481    -0.02663199\n",
            "   0.04940125 -0.02399793 -0.02894895  0.03218622]\n",
            " [ 0.0180077   0.04197855 -0.02994322 -0.02055211  0.04839735  0.01377538\n",
            "  -0.04182384 -0.02771622 -0.00568897  0.03470116]\n",
            " [-0.00056251 -0.00268074 -0.00844208 -0.03373687  0.00241417  0.02483254\n",
            "  -0.04162188 -0.01028829 -0.02395309 -0.00755497]\n",
            " [-0.0497383  -0.01974841 -0.03104291 -0.0302685  -0.0397594   0.044519\n",
            "   0.03130559  0.03298824 -0.01027591 -0.01350039]\n",
            " [-0.03864474 -0.03569611 -0.00592425 -0.0419027  -0.01460173  0.00639962\n",
            "   0.02429768  0.0477956  -0.04097883  0.01942072]]\n"
          ]
        }
      ],
      "source": [
        "print(model.predict(embedded_docs)[0])"
      ]
    }
  ],
  "metadata": {
    "kernelspec": {
      "display_name": "Python 3",
      "language": "python",
      "name": "python3"
    },
    "language_info": {
      "codemirror_mode": {
        "name": "ipython",
        "version": 3
      },
      "file_extension": ".py",
      "mimetype": "text/x-python",
      "name": "python",
      "nbconvert_exporter": "python",
      "pygments_lexer": "ipython3",
      "version": "3.7.4"
    },
    "colab": {
      "name": "Word embedding Techniques.ipynb",
      "provenance": [],
      "collapsed_sections": []
    },
    "accelerator": "GPU",
    "gpuClass": "standard"
  },
  "nbformat": 4,
  "nbformat_minor": 0
}